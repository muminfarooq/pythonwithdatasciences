{
 "cells": [
  {
   "cell_type": "code",
   "execution_count": 1,
   "metadata": {},
   "outputs": [],
   "source": [
    "import pandas as pd"
   ]
  },
  {
   "cell_type": "code",
   "execution_count": 20,
   "metadata": {},
   "outputs": [],
   "source": [
    "df=pd.read_csv('e:/EXCEL WORK/russian_passenger_air_service.csv')\n"
   ]
  },
  {
   "cell_type": "code",
   "execution_count": 21,
   "metadata": {},
   "outputs": [
    {
     "data": {
      "text/html": [
       "<div>\n",
       "<style scoped>\n",
       "    .dataframe tbody tr th:only-of-type {\n",
       "        vertical-align: middle;\n",
       "    }\n",
       "\n",
       "    .dataframe tbody tr th {\n",
       "        vertical-align: top;\n",
       "    }\n",
       "\n",
       "    .dataframe thead th {\n",
       "        text-align: right;\n",
       "    }\n",
       "</style>\n",
       "<table border=\"1\" class=\"dataframe\">\n",
       "  <thead>\n",
       "    <tr style=\"text-align: right;\">\n",
       "      <th></th>\n",
       "      <th>Airport name</th>\n",
       "      <th>Year</th>\n",
       "      <th>January</th>\n",
       "      <th>February</th>\n",
       "      <th>March</th>\n",
       "      <th>April</th>\n",
       "      <th>May</th>\n",
       "      <th>June</th>\n",
       "      <th>July</th>\n",
       "      <th>August</th>\n",
       "      <th>September</th>\n",
       "      <th>October</th>\n",
       "      <th>November</th>\n",
       "      <th>December</th>\n",
       "      <th>Whole year</th>\n",
       "      <th>Airport coordinates</th>\n",
       "    </tr>\n",
       "  </thead>\n",
       "  <tbody>\n",
       "    <tr>\n",
       "      <th>0</th>\n",
       "      <td>Abakan</td>\n",
       "      <td>2020</td>\n",
       "      <td>43.58</td>\n",
       "      <td>0.00</td>\n",
       "      <td>0.00</td>\n",
       "      <td>0.00</td>\n",
       "      <td>0.00</td>\n",
       "      <td>0.0</td>\n",
       "      <td>0.00</td>\n",
       "      <td>0.00</td>\n",
       "      <td>0.00</td>\n",
       "      <td>0.00</td>\n",
       "      <td>0.00</td>\n",
       "      <td>0.00</td>\n",
       "      <td>0.00</td>\n",
       "      <td>(Decimal('91.399735'), Decimal('53.751351'))</td>\n",
       "    </tr>\n",
       "    <tr>\n",
       "      <th>1</th>\n",
       "      <td>Aikhal</td>\n",
       "      <td>2020</td>\n",
       "      <td>0.00</td>\n",
       "      <td>0.00</td>\n",
       "      <td>0.00</td>\n",
       "      <td>0.00</td>\n",
       "      <td>0.00</td>\n",
       "      <td>0.0</td>\n",
       "      <td>0.00</td>\n",
       "      <td>0.00</td>\n",
       "      <td>0.00</td>\n",
       "      <td>0.00</td>\n",
       "      <td>0.00</td>\n",
       "      <td>0.00</td>\n",
       "      <td>0.00</td>\n",
       "      <td>(Decimal('111.543324'), Decimal('65.957161'))</td>\n",
       "    </tr>\n",
       "    <tr>\n",
       "      <th>2</th>\n",
       "      <td>Loss</td>\n",
       "      <td>2020</td>\n",
       "      <td>0.00</td>\n",
       "      <td>0.00</td>\n",
       "      <td>0.00</td>\n",
       "      <td>0.00</td>\n",
       "      <td>0.00</td>\n",
       "      <td>0.0</td>\n",
       "      <td>0.00</td>\n",
       "      <td>0.00</td>\n",
       "      <td>0.00</td>\n",
       "      <td>0.00</td>\n",
       "      <td>0.00</td>\n",
       "      <td>0.00</td>\n",
       "      <td>0.00</td>\n",
       "      <td>(Decimal('125.398355'), Decimal('58.602489'))</td>\n",
       "    </tr>\n",
       "    <tr>\n",
       "      <th>3</th>\n",
       "      <td>Amderma</td>\n",
       "      <td>2020</td>\n",
       "      <td>0.00</td>\n",
       "      <td>0.00</td>\n",
       "      <td>0.00</td>\n",
       "      <td>0.00</td>\n",
       "      <td>0.00</td>\n",
       "      <td>0.0</td>\n",
       "      <td>0.00</td>\n",
       "      <td>0.00</td>\n",
       "      <td>0.00</td>\n",
       "      <td>0.00</td>\n",
       "      <td>0.00</td>\n",
       "      <td>0.00</td>\n",
       "      <td>0.00</td>\n",
       "      <td>(Decimal('61.577429'), Decimal('69.759076'))</td>\n",
       "    </tr>\n",
       "    <tr>\n",
       "      <th>4</th>\n",
       "      <td>Anadyr (Carbon)</td>\n",
       "      <td>2020</td>\n",
       "      <td>122.00</td>\n",
       "      <td>0.00</td>\n",
       "      <td>0.00</td>\n",
       "      <td>0.00</td>\n",
       "      <td>0.00</td>\n",
       "      <td>0.0</td>\n",
       "      <td>0.00</td>\n",
       "      <td>0.00</td>\n",
       "      <td>0.00</td>\n",
       "      <td>0.00</td>\n",
       "      <td>0.00</td>\n",
       "      <td>0.00</td>\n",
       "      <td>0.00</td>\n",
       "      <td>(Decimal('177.738273'), Decimal('64.713433'))</td>\n",
       "    </tr>\n",
       "    <tr>\n",
       "      <th>...</th>\n",
       "      <td>...</td>\n",
       "      <td>...</td>\n",
       "      <td>...</td>\n",
       "      <td>...</td>\n",
       "      <td>...</td>\n",
       "      <td>...</td>\n",
       "      <td>...</td>\n",
       "      <td>...</td>\n",
       "      <td>...</td>\n",
       "      <td>...</td>\n",
       "      <td>...</td>\n",
       "      <td>...</td>\n",
       "      <td>...</td>\n",
       "      <td>...</td>\n",
       "      <td>...</td>\n",
       "      <td>...</td>\n",
       "    </tr>\n",
       "    <tr>\n",
       "      <th>3956</th>\n",
       "      <td>Yakutsk</td>\n",
       "      <td>2007</td>\n",
       "      <td>583.70</td>\n",
       "      <td>707.80</td>\n",
       "      <td>851.80</td>\n",
       "      <td>1018.00</td>\n",
       "      <td>950.80</td>\n",
       "      <td>900.0</td>\n",
       "      <td>1154.90</td>\n",
       "      <td>1137.84</td>\n",
       "      <td>1485.50</td>\n",
       "      <td>1382.50</td>\n",
       "      <td>1488.00</td>\n",
       "      <td>1916.60</td>\n",
       "      <td>13577.44</td>\n",
       "      <td>(Decimal('129.750225'), Decimal('62.086594'))</td>\n",
       "    </tr>\n",
       "    <tr>\n",
       "      <th>3957</th>\n",
       "      <td>Yakutsk (Magan)</td>\n",
       "      <td>2007</td>\n",
       "      <td>0.00</td>\n",
       "      <td>0.00</td>\n",
       "      <td>0.00</td>\n",
       "      <td>0.00</td>\n",
       "      <td>0.00</td>\n",
       "      <td>0.0</td>\n",
       "      <td>0.00</td>\n",
       "      <td>0.00</td>\n",
       "      <td>0.00</td>\n",
       "      <td>0.00</td>\n",
       "      <td>0.00</td>\n",
       "      <td>0.00</td>\n",
       "      <td>0.00</td>\n",
       "      <td>(Decimal('-6.226888'), Decimal('8.607871'))</td>\n",
       "    </tr>\n",
       "    <tr>\n",
       "      <th>3958</th>\n",
       "      <td>Yamburg</td>\n",
       "      <td>2007</td>\n",
       "      <td>3.55</td>\n",
       "      <td>0.16</td>\n",
       "      <td>3.37</td>\n",
       "      <td>5.32</td>\n",
       "      <td>4.31</td>\n",
       "      <td>6.3</td>\n",
       "      <td>6.88</td>\n",
       "      <td>3.60</td>\n",
       "      <td>4.13</td>\n",
       "      <td>4.93</td>\n",
       "      <td>4.17</td>\n",
       "      <td>8.87</td>\n",
       "      <td>55.59</td>\n",
       "      <td>(Decimal('75.097783'), Decimal('67.980026'))</td>\n",
       "    </tr>\n",
       "    <tr>\n",
       "      <th>3959</th>\n",
       "      <td>Yaroslavl (Tunoshna)</td>\n",
       "      <td>2007</td>\n",
       "      <td>847.00</td>\n",
       "      <td>1482.90</td>\n",
       "      <td>1325.40</td>\n",
       "      <td>1235.97</td>\n",
       "      <td>629.00</td>\n",
       "      <td>838.0</td>\n",
       "      <td>1211.30</td>\n",
       "      <td>915.00</td>\n",
       "      <td>1249.60</td>\n",
       "      <td>1650.50</td>\n",
       "      <td>1822.60</td>\n",
       "      <td>2055.60</td>\n",
       "      <td>15262.87</td>\n",
       "      <td>(Decimal('40.170054'), Decimal('57.56231'))</td>\n",
       "    </tr>\n",
       "    <tr>\n",
       "      <th>3960</th>\n",
       "      <td>Yartsevo</td>\n",
       "      <td>2007</td>\n",
       "      <td>0.00</td>\n",
       "      <td>0.00</td>\n",
       "      <td>0.00</td>\n",
       "      <td>0.00</td>\n",
       "      <td>0.00</td>\n",
       "      <td>0.0</td>\n",
       "      <td>0.00</td>\n",
       "      <td>0.00</td>\n",
       "      <td>0.00</td>\n",
       "      <td>0.00</td>\n",
       "      <td>0.00</td>\n",
       "      <td>0.00</td>\n",
       "      <td>0.00</td>\n",
       "      <td>(Decimal('90.203907'), Decimal('60.252931'))</td>\n",
       "    </tr>\n",
       "  </tbody>\n",
       "</table>\n",
       "<p>3961 rows × 16 columns</p>\n",
       "</div>"
      ],
      "text/plain": [
       "              Airport name  Year  January  February    March    April     May  \\\n",
       "0                   Abakan  2020    43.58      0.00     0.00     0.00    0.00   \n",
       "1                   Aikhal  2020     0.00      0.00     0.00     0.00    0.00   \n",
       "2                     Loss  2020     0.00      0.00     0.00     0.00    0.00   \n",
       "3                  Amderma  2020     0.00      0.00     0.00     0.00    0.00   \n",
       "4          Anadyr (Carbon)  2020   122.00      0.00     0.00     0.00    0.00   \n",
       "...                    ...   ...      ...       ...      ...      ...     ...   \n",
       "3956               Yakutsk  2007   583.70    707.80   851.80  1018.00  950.80   \n",
       "3957       Yakutsk (Magan)  2007     0.00      0.00     0.00     0.00    0.00   \n",
       "3958               Yamburg  2007     3.55      0.16     3.37     5.32    4.31   \n",
       "3959  Yaroslavl (Tunoshna)  2007   847.00   1482.90  1325.40  1235.97  629.00   \n",
       "3960              Yartsevo  2007     0.00      0.00     0.00     0.00    0.00   \n",
       "\n",
       "       June     July   August  September  October  November  December  \\\n",
       "0       0.0     0.00     0.00       0.00     0.00      0.00      0.00   \n",
       "1       0.0     0.00     0.00       0.00     0.00      0.00      0.00   \n",
       "2       0.0     0.00     0.00       0.00     0.00      0.00      0.00   \n",
       "3       0.0     0.00     0.00       0.00     0.00      0.00      0.00   \n",
       "4       0.0     0.00     0.00       0.00     0.00      0.00      0.00   \n",
       "...     ...      ...      ...        ...      ...       ...       ...   \n",
       "3956  900.0  1154.90  1137.84    1485.50  1382.50   1488.00   1916.60   \n",
       "3957    0.0     0.00     0.00       0.00     0.00      0.00      0.00   \n",
       "3958    6.3     6.88     3.60       4.13     4.93      4.17      8.87   \n",
       "3959  838.0  1211.30   915.00    1249.60  1650.50   1822.60   2055.60   \n",
       "3960    0.0     0.00     0.00       0.00     0.00      0.00      0.00   \n",
       "\n",
       "      Whole year                            Airport coordinates  \n",
       "0           0.00   (Decimal('91.399735'), Decimal('53.751351'))  \n",
       "1           0.00  (Decimal('111.543324'), Decimal('65.957161'))  \n",
       "2           0.00  (Decimal('125.398355'), Decimal('58.602489'))  \n",
       "3           0.00   (Decimal('61.577429'), Decimal('69.759076'))  \n",
       "4           0.00  (Decimal('177.738273'), Decimal('64.713433'))  \n",
       "...          ...                                            ...  \n",
       "3956    13577.44  (Decimal('129.750225'), Decimal('62.086594'))  \n",
       "3957        0.00    (Decimal('-6.226888'), Decimal('8.607871'))  \n",
       "3958       55.59   (Decimal('75.097783'), Decimal('67.980026'))  \n",
       "3959    15262.87    (Decimal('40.170054'), Decimal('57.56231'))  \n",
       "3960        0.00   (Decimal('90.203907'), Decimal('60.252931'))  \n",
       "\n",
       "[3961 rows x 16 columns]"
      ]
     },
     "execution_count": 21,
     "metadata": {},
     "output_type": "execute_result"
    }
   ],
   "source": [
    "df"
   ]
  },
  {
   "cell_type": "code",
   "execution_count": 22,
   "metadata": {},
   "outputs": [
    {
     "data": {
      "text/html": [
       "<div>\n",
       "<style scoped>\n",
       "    .dataframe tbody tr th:only-of-type {\n",
       "        vertical-align: middle;\n",
       "    }\n",
       "\n",
       "    .dataframe tbody tr th {\n",
       "        vertical-align: top;\n",
       "    }\n",
       "\n",
       "    .dataframe thead th {\n",
       "        text-align: right;\n",
       "    }\n",
       "</style>\n",
       "<table border=\"1\" class=\"dataframe\">\n",
       "  <thead>\n",
       "    <tr style=\"text-align: right;\">\n",
       "      <th></th>\n",
       "      <th>Airport name</th>\n",
       "      <th>Year</th>\n",
       "      <th>January</th>\n",
       "      <th>February</th>\n",
       "      <th>March</th>\n",
       "      <th>April</th>\n",
       "      <th>May</th>\n",
       "      <th>June</th>\n",
       "      <th>July</th>\n",
       "      <th>August</th>\n",
       "      <th>September</th>\n",
       "      <th>October</th>\n",
       "      <th>November</th>\n",
       "      <th>December</th>\n",
       "      <th>Whole year</th>\n",
       "      <th>Airport coordinates</th>\n",
       "    </tr>\n",
       "  </thead>\n",
       "  <tbody>\n",
       "    <tr>\n",
       "      <th>0</th>\n",
       "      <td>Abakan</td>\n",
       "      <td>2020</td>\n",
       "      <td>43.58</td>\n",
       "      <td>0.0</td>\n",
       "      <td>0.0</td>\n",
       "      <td>0.0</td>\n",
       "      <td>0.0</td>\n",
       "      <td>0.0</td>\n",
       "      <td>0.0</td>\n",
       "      <td>0.0</td>\n",
       "      <td>0.0</td>\n",
       "      <td>0.0</td>\n",
       "      <td>0.0</td>\n",
       "      <td>0.0</td>\n",
       "      <td>0.0</td>\n",
       "      <td>(Decimal('91.399735'), Decimal('53.751351'))</td>\n",
       "    </tr>\n",
       "    <tr>\n",
       "      <th>1</th>\n",
       "      <td>Aikhal</td>\n",
       "      <td>2020</td>\n",
       "      <td>0.00</td>\n",
       "      <td>0.0</td>\n",
       "      <td>0.0</td>\n",
       "      <td>0.0</td>\n",
       "      <td>0.0</td>\n",
       "      <td>0.0</td>\n",
       "      <td>0.0</td>\n",
       "      <td>0.0</td>\n",
       "      <td>0.0</td>\n",
       "      <td>0.0</td>\n",
       "      <td>0.0</td>\n",
       "      <td>0.0</td>\n",
       "      <td>0.0</td>\n",
       "      <td>(Decimal('111.543324'), Decimal('65.957161'))</td>\n",
       "    </tr>\n",
       "  </tbody>\n",
       "</table>\n",
       "</div>"
      ],
      "text/plain": [
       "  Airport name  Year  January  February  March  April  May  June  July  \\\n",
       "0       Abakan  2020    43.58       0.0    0.0    0.0  0.0   0.0   0.0   \n",
       "1       Aikhal  2020     0.00       0.0    0.0    0.0  0.0   0.0   0.0   \n",
       "\n",
       "   August  September  October  November  December  Whole year  \\\n",
       "0     0.0        0.0      0.0       0.0       0.0         0.0   \n",
       "1     0.0        0.0      0.0       0.0       0.0         0.0   \n",
       "\n",
       "                             Airport coordinates  \n",
       "0   (Decimal('91.399735'), Decimal('53.751351'))  \n",
       "1  (Decimal('111.543324'), Decimal('65.957161'))  "
      ]
     },
     "execution_count": 22,
     "metadata": {},
     "output_type": "execute_result"
    }
   ],
   "source": [
    "df.head(2)"
   ]
  },
  {
   "cell_type": "code",
   "execution_count": 23,
   "metadata": {},
   "outputs": [
    {
     "data": {
      "text/plain": [
       "<bound method DataFrame.info of               Airport name  Year  January  February    March    April     May  \\\n",
       "0                   Abakan  2020    43.58      0.00     0.00     0.00    0.00   \n",
       "1                   Aikhal  2020     0.00      0.00     0.00     0.00    0.00   \n",
       "2                     Loss  2020     0.00      0.00     0.00     0.00    0.00   \n",
       "3                  Amderma  2020     0.00      0.00     0.00     0.00    0.00   \n",
       "4          Anadyr (Carbon)  2020   122.00      0.00     0.00     0.00    0.00   \n",
       "...                    ...   ...      ...       ...      ...      ...     ...   \n",
       "3956               Yakutsk  2007   583.70    707.80   851.80  1018.00  950.80   \n",
       "3957       Yakutsk (Magan)  2007     0.00      0.00     0.00     0.00    0.00   \n",
       "3958               Yamburg  2007     3.55      0.16     3.37     5.32    4.31   \n",
       "3959  Yaroslavl (Tunoshna)  2007   847.00   1482.90  1325.40  1235.97  629.00   \n",
       "3960              Yartsevo  2007     0.00      0.00     0.00     0.00    0.00   \n",
       "\n",
       "       June     July   August  September  October  November  December  \\\n",
       "0       0.0     0.00     0.00       0.00     0.00      0.00      0.00   \n",
       "1       0.0     0.00     0.00       0.00     0.00      0.00      0.00   \n",
       "2       0.0     0.00     0.00       0.00     0.00      0.00      0.00   \n",
       "3       0.0     0.00     0.00       0.00     0.00      0.00      0.00   \n",
       "4       0.0     0.00     0.00       0.00     0.00      0.00      0.00   \n",
       "...     ...      ...      ...        ...      ...       ...       ...   \n",
       "3956  900.0  1154.90  1137.84    1485.50  1382.50   1488.00   1916.60   \n",
       "3957    0.0     0.00     0.00       0.00     0.00      0.00      0.00   \n",
       "3958    6.3     6.88     3.60       4.13     4.93      4.17      8.87   \n",
       "3959  838.0  1211.30   915.00    1249.60  1650.50   1822.60   2055.60   \n",
       "3960    0.0     0.00     0.00       0.00     0.00      0.00      0.00   \n",
       "\n",
       "      Whole year                            Airport coordinates  \n",
       "0           0.00   (Decimal('91.399735'), Decimal('53.751351'))  \n",
       "1           0.00  (Decimal('111.543324'), Decimal('65.957161'))  \n",
       "2           0.00  (Decimal('125.398355'), Decimal('58.602489'))  \n",
       "3           0.00   (Decimal('61.577429'), Decimal('69.759076'))  \n",
       "4           0.00  (Decimal('177.738273'), Decimal('64.713433'))  \n",
       "...          ...                                            ...  \n",
       "3956    13577.44  (Decimal('129.750225'), Decimal('62.086594'))  \n",
       "3957        0.00    (Decimal('-6.226888'), Decimal('8.607871'))  \n",
       "3958       55.59   (Decimal('75.097783'), Decimal('67.980026'))  \n",
       "3959    15262.87    (Decimal('40.170054'), Decimal('57.56231'))  \n",
       "3960        0.00   (Decimal('90.203907'), Decimal('60.252931'))  \n",
       "\n",
       "[3961 rows x 16 columns]>"
      ]
     },
     "execution_count": 23,
     "metadata": {},
     "output_type": "execute_result"
    }
   ],
   "source": [
    "df.info"
   ]
  },
  {
   "cell_type": "code",
   "execution_count": 25,
   "metadata": {},
   "outputs": [
    {
     "data": {
      "text/plain": [
       "pandas.core.frame.DataFrame"
      ]
     },
     "execution_count": 25,
     "metadata": {},
     "output_type": "execute_result"
    }
   ],
   "source": [
    "type(df)"
   ]
  },
  {
   "cell_type": "code",
   "execution_count": 26,
   "metadata": {},
   "outputs": [
    {
     "data": {
      "text/plain": [
       "Airport name            object\n",
       "Year                     int64\n",
       "January                float64\n",
       "February               float64\n",
       "March                  float64\n",
       "April                  float64\n",
       "May                    float64\n",
       "June                   float64\n",
       "July                   float64\n",
       "August                 float64\n",
       "September              float64\n",
       "October                float64\n",
       "November               float64\n",
       "December               float64\n",
       "Whole year             float64\n",
       "Airport coordinates     object\n",
       "dtype: object"
      ]
     },
     "execution_count": 26,
     "metadata": {},
     "output_type": "execute_result"
    }
   ],
   "source": [
    "df.dtypes"
   ]
  },
  {
   "cell_type": "markdown",
   "metadata": {},
   "source": [
    "# Sub Settings"
   ]
  },
  {
   "cell_type": "code",
   "execution_count": 28,
   "metadata": {},
   "outputs": [],
   "source": [
    "country_df=df[['Airport name','January','August','Whole year','June']]"
   ]
  },
  {
   "cell_type": "code",
   "execution_count": 29,
   "metadata": {},
   "outputs": [
    {
     "data": {
      "text/html": [
       "<div>\n",
       "<style scoped>\n",
       "    .dataframe tbody tr th:only-of-type {\n",
       "        vertical-align: middle;\n",
       "    }\n",
       "\n",
       "    .dataframe tbody tr th {\n",
       "        vertical-align: top;\n",
       "    }\n",
       "\n",
       "    .dataframe thead th {\n",
       "        text-align: right;\n",
       "    }\n",
       "</style>\n",
       "<table border=\"1\" class=\"dataframe\">\n",
       "  <thead>\n",
       "    <tr style=\"text-align: right;\">\n",
       "      <th></th>\n",
       "      <th>Airport name</th>\n",
       "      <th>January</th>\n",
       "      <th>August</th>\n",
       "      <th>Whole year</th>\n",
       "      <th>June</th>\n",
       "    </tr>\n",
       "  </thead>\n",
       "  <tbody>\n",
       "    <tr>\n",
       "      <th>0</th>\n",
       "      <td>Abakan</td>\n",
       "      <td>43.58</td>\n",
       "      <td>0.0</td>\n",
       "      <td>0.0</td>\n",
       "      <td>0.0</td>\n",
       "    </tr>\n",
       "    <tr>\n",
       "      <th>1</th>\n",
       "      <td>Aikhal</td>\n",
       "      <td>0.00</td>\n",
       "      <td>0.0</td>\n",
       "      <td>0.0</td>\n",
       "      <td>0.0</td>\n",
       "    </tr>\n",
       "  </tbody>\n",
       "</table>\n",
       "</div>"
      ],
      "text/plain": [
       "  Airport name  January  August  Whole year  June\n",
       "0       Abakan    43.58     0.0         0.0   0.0\n",
       "1       Aikhal     0.00     0.0         0.0   0.0"
      ]
     },
     "execution_count": 29,
     "metadata": {},
     "output_type": "execute_result"
    }
   ],
   "source": [
    "country_df.head(2)"
   ]
  },
  {
   "cell_type": "code",
   "execution_count": 35,
   "metadata": {},
   "outputs": [
    {
     "data": {
      "text/plain": [
       "Airport name           0\n",
       "Year                   0\n",
       "January                0\n",
       "February               0\n",
       "March                  0\n",
       "April                  0\n",
       "May                    0\n",
       "June                   0\n",
       "July                   0\n",
       "August                 0\n",
       "September              0\n",
       "October                0\n",
       "November               0\n",
       "December               0\n",
       "Whole year             0\n",
       "Airport coordinates    0\n",
       "dtype: int64"
      ]
     },
     "execution_count": 35,
     "metadata": {},
     "output_type": "execute_result"
    }
   ],
   "source": [
    "df.isnull().sum()"
   ]
  },
  {
   "cell_type": "code",
   "execution_count": 54,
   "metadata": {},
   "outputs": [],
   "source": [
    "df_is=df.apply(lambda x:True if x['Whole year']=='30.00' else False,axis=1)"
   ]
  },
  {
   "cell_type": "code",
   "execution_count": 55,
   "metadata": {},
   "outputs": [
    {
     "data": {
      "text/plain": [
       "0       False\n",
       "1       False\n",
       "2       False\n",
       "3       False\n",
       "4       False\n",
       "        ...  \n",
       "3956    False\n",
       "3957    False\n",
       "3958    False\n",
       "3959    False\n",
       "3960    False\n",
       "Length: 3961, dtype: bool"
      ]
     },
     "execution_count": 55,
     "metadata": {},
     "output_type": "execute_result"
    }
   ],
   "source": [
    "df_is"
   ]
  },
  {
   "cell_type": "code",
   "execution_count": 48,
   "metadata": {},
   "outputs": [
    {
     "data": {
      "text/plain": [
       "False"
      ]
     },
     "execution_count": 48,
     "metadata": {},
     "output_type": "execute_result"
    }
   ],
   "source": [
    "df_is.iloc[2000]"
   ]
  },
  {
   "cell_type": "code",
   "execution_count": 56,
   "metadata": {},
   "outputs": [
    {
     "data": {
      "text/plain": [
       "3961"
      ]
     },
     "execution_count": 56,
     "metadata": {},
     "output_type": "execute_result"
    }
   ],
   "source": [
    "len(df_is[df_is==False].index)"
   ]
  },
  {
   "cell_type": "code",
   "execution_count": 57,
   "metadata": {},
   "outputs": [
    {
     "data": {
      "text/plain": [
       "(3961, 16)"
      ]
     },
     "execution_count": 57,
     "metadata": {},
     "output_type": "execute_result"
    }
   ],
   "source": [
    "df.shape"
   ]
  },
  {
   "cell_type": "code",
   "execution_count": 65,
   "metadata": {},
   "outputs": [
    {
     "data": {
      "text/plain": [
       "3057"
      ]
     },
     "execution_count": 65,
     "metadata": {},
     "output_type": "execute_result"
    }
   ],
   "source": [
    "len(df[df['Whole year']==0.00])"
   ]
  },
  {
   "cell_type": "markdown",
   "metadata": {},
   "source": [
    "# melting the table"
   ]
  },
  {
   "cell_type": "code",
   "execution_count": 70,
   "metadata": {},
   "outputs": [],
   "source": [
    "df_melt=df.melt(id_vars=['Airport name','Airport coordinates','Whole year','Year'],var_name='Months',value_name='Sale')"
   ]
  },
  {
   "cell_type": "code",
   "execution_count": 71,
   "metadata": {},
   "outputs": [
    {
     "data": {
      "text/html": [
       "<div>\n",
       "<style scoped>\n",
       "    .dataframe tbody tr th:only-of-type {\n",
       "        vertical-align: middle;\n",
       "    }\n",
       "\n",
       "    .dataframe tbody tr th {\n",
       "        vertical-align: top;\n",
       "    }\n",
       "\n",
       "    .dataframe thead th {\n",
       "        text-align: right;\n",
       "    }\n",
       "</style>\n",
       "<table border=\"1\" class=\"dataframe\">\n",
       "  <thead>\n",
       "    <tr style=\"text-align: right;\">\n",
       "      <th></th>\n",
       "      <th>Airport name</th>\n",
       "      <th>Airport coordinates</th>\n",
       "      <th>Whole year</th>\n",
       "      <th>Year</th>\n",
       "      <th>Months</th>\n",
       "      <th>Sale</th>\n",
       "    </tr>\n",
       "  </thead>\n",
       "  <tbody>\n",
       "    <tr>\n",
       "      <th>0</th>\n",
       "      <td>Abakan</td>\n",
       "      <td>(Decimal('91.399735'), Decimal('53.751351'))</td>\n",
       "      <td>0.0</td>\n",
       "      <td>2020</td>\n",
       "      <td>January</td>\n",
       "      <td>43.58</td>\n",
       "    </tr>\n",
       "    <tr>\n",
       "      <th>1</th>\n",
       "      <td>Aikhal</td>\n",
       "      <td>(Decimal('111.543324'), Decimal('65.957161'))</td>\n",
       "      <td>0.0</td>\n",
       "      <td>2020</td>\n",
       "      <td>January</td>\n",
       "      <td>0.00</td>\n",
       "    </tr>\n",
       "  </tbody>\n",
       "</table>\n",
       "</div>"
      ],
      "text/plain": [
       "  Airport name                            Airport coordinates  Whole year  \\\n",
       "0       Abakan   (Decimal('91.399735'), Decimal('53.751351'))         0.0   \n",
       "1       Aikhal  (Decimal('111.543324'), Decimal('65.957161'))         0.0   \n",
       "\n",
       "   Year   Months   Sale  \n",
       "0  2020  January  43.58  \n",
       "1  2020  January   0.00  "
      ]
     },
     "execution_count": 71,
     "metadata": {},
     "output_type": "execute_result"
    }
   ],
   "source": [
    "df_melt.head(2)"
   ]
  },
  {
   "cell_type": "code",
   "execution_count": 72,
   "metadata": {},
   "outputs": [
    {
     "data": {
      "text/plain": [
       "(47532, 6)"
      ]
     },
     "execution_count": 72,
     "metadata": {},
     "output_type": "execute_result"
    }
   ],
   "source": [
    "df_melt.shape"
   ]
  },
  {
   "cell_type": "code",
   "execution_count": 73,
   "metadata": {},
   "outputs": [
    {
     "data": {
      "text/html": [
       "<div>\n",
       "<style scoped>\n",
       "    .dataframe tbody tr th:only-of-type {\n",
       "        vertical-align: middle;\n",
       "    }\n",
       "\n",
       "    .dataframe tbody tr th {\n",
       "        vertical-align: top;\n",
       "    }\n",
       "\n",
       "    .dataframe thead th {\n",
       "        text-align: right;\n",
       "    }\n",
       "</style>\n",
       "<table border=\"1\" class=\"dataframe\">\n",
       "  <thead>\n",
       "    <tr style=\"text-align: right;\">\n",
       "      <th></th>\n",
       "      <th>Airport name</th>\n",
       "      <th>Airport coordinates</th>\n",
       "      <th>Whole year</th>\n",
       "      <th>Year</th>\n",
       "      <th>Months</th>\n",
       "      <th>Sale</th>\n",
       "    </tr>\n",
       "  </thead>\n",
       "  <tbody>\n",
       "    <tr>\n",
       "      <th>0</th>\n",
       "      <td>Abakan</td>\n",
       "      <td>(Decimal('91.399735'), Decimal('53.751351'))</td>\n",
       "      <td>0.00</td>\n",
       "      <td>2020</td>\n",
       "      <td>January</td>\n",
       "      <td>43.58</td>\n",
       "    </tr>\n",
       "    <tr>\n",
       "      <th>1</th>\n",
       "      <td>Aikhal</td>\n",
       "      <td>(Decimal('111.543324'), Decimal('65.957161'))</td>\n",
       "      <td>0.00</td>\n",
       "      <td>2020</td>\n",
       "      <td>January</td>\n",
       "      <td>0.00</td>\n",
       "    </tr>\n",
       "    <tr>\n",
       "      <th>2</th>\n",
       "      <td>Loss</td>\n",
       "      <td>(Decimal('125.398355'), Decimal('58.602489'))</td>\n",
       "      <td>0.00</td>\n",
       "      <td>2020</td>\n",
       "      <td>January</td>\n",
       "      <td>0.00</td>\n",
       "    </tr>\n",
       "    <tr>\n",
       "      <th>3</th>\n",
       "      <td>Amderma</td>\n",
       "      <td>(Decimal('61.577429'), Decimal('69.759076'))</td>\n",
       "      <td>0.00</td>\n",
       "      <td>2020</td>\n",
       "      <td>January</td>\n",
       "      <td>0.00</td>\n",
       "    </tr>\n",
       "    <tr>\n",
       "      <th>4</th>\n",
       "      <td>Anadyr (Carbon)</td>\n",
       "      <td>(Decimal('177.738273'), Decimal('64.713433'))</td>\n",
       "      <td>0.00</td>\n",
       "      <td>2020</td>\n",
       "      <td>January</td>\n",
       "      <td>122.00</td>\n",
       "    </tr>\n",
       "    <tr>\n",
       "      <th>...</th>\n",
       "      <td>...</td>\n",
       "      <td>...</td>\n",
       "      <td>...</td>\n",
       "      <td>...</td>\n",
       "      <td>...</td>\n",
       "      <td>...</td>\n",
       "    </tr>\n",
       "    <tr>\n",
       "      <th>47527</th>\n",
       "      <td>Yakutsk</td>\n",
       "      <td>(Decimal('129.750225'), Decimal('62.086594'))</td>\n",
       "      <td>13577.44</td>\n",
       "      <td>2007</td>\n",
       "      <td>December</td>\n",
       "      <td>1916.60</td>\n",
       "    </tr>\n",
       "    <tr>\n",
       "      <th>47528</th>\n",
       "      <td>Yakutsk (Magan)</td>\n",
       "      <td>(Decimal('-6.226888'), Decimal('8.607871'))</td>\n",
       "      <td>0.00</td>\n",
       "      <td>2007</td>\n",
       "      <td>December</td>\n",
       "      <td>0.00</td>\n",
       "    </tr>\n",
       "    <tr>\n",
       "      <th>47529</th>\n",
       "      <td>Yamburg</td>\n",
       "      <td>(Decimal('75.097783'), Decimal('67.980026'))</td>\n",
       "      <td>55.59</td>\n",
       "      <td>2007</td>\n",
       "      <td>December</td>\n",
       "      <td>8.87</td>\n",
       "    </tr>\n",
       "    <tr>\n",
       "      <th>47530</th>\n",
       "      <td>Yaroslavl (Tunoshna)</td>\n",
       "      <td>(Decimal('40.170054'), Decimal('57.56231'))</td>\n",
       "      <td>15262.87</td>\n",
       "      <td>2007</td>\n",
       "      <td>December</td>\n",
       "      <td>2055.60</td>\n",
       "    </tr>\n",
       "    <tr>\n",
       "      <th>47531</th>\n",
       "      <td>Yartsevo</td>\n",
       "      <td>(Decimal('90.203907'), Decimal('60.252931'))</td>\n",
       "      <td>0.00</td>\n",
       "      <td>2007</td>\n",
       "      <td>December</td>\n",
       "      <td>0.00</td>\n",
       "    </tr>\n",
       "  </tbody>\n",
       "</table>\n",
       "<p>47532 rows × 6 columns</p>\n",
       "</div>"
      ],
      "text/plain": [
       "               Airport name                            Airport coordinates  \\\n",
       "0                    Abakan   (Decimal('91.399735'), Decimal('53.751351'))   \n",
       "1                    Aikhal  (Decimal('111.543324'), Decimal('65.957161'))   \n",
       "2                      Loss  (Decimal('125.398355'), Decimal('58.602489'))   \n",
       "3                   Amderma   (Decimal('61.577429'), Decimal('69.759076'))   \n",
       "4           Anadyr (Carbon)  (Decimal('177.738273'), Decimal('64.713433'))   \n",
       "...                     ...                                            ...   \n",
       "47527               Yakutsk  (Decimal('129.750225'), Decimal('62.086594'))   \n",
       "47528       Yakutsk (Magan)    (Decimal('-6.226888'), Decimal('8.607871'))   \n",
       "47529               Yamburg   (Decimal('75.097783'), Decimal('67.980026'))   \n",
       "47530  Yaroslavl (Tunoshna)    (Decimal('40.170054'), Decimal('57.56231'))   \n",
       "47531              Yartsevo   (Decimal('90.203907'), Decimal('60.252931'))   \n",
       "\n",
       "       Whole year  Year    Months     Sale  \n",
       "0            0.00  2020   January    43.58  \n",
       "1            0.00  2020   January     0.00  \n",
       "2            0.00  2020   January     0.00  \n",
       "3            0.00  2020   January     0.00  \n",
       "4            0.00  2020   January   122.00  \n",
       "...           ...   ...       ...      ...  \n",
       "47527    13577.44  2007  December  1916.60  \n",
       "47528        0.00  2007  December     0.00  \n",
       "47529       55.59  2007  December     8.87  \n",
       "47530    15262.87  2007  December  2055.60  \n",
       "47531        0.00  2007  December     0.00  \n",
       "\n",
       "[47532 rows x 6 columns]"
      ]
     },
     "execution_count": 73,
     "metadata": {},
     "output_type": "execute_result"
    }
   ],
   "source": [
    "df_melt.dropna()"
   ]
  },
  {
   "cell_type": "code",
   "execution_count": null,
   "metadata": {},
   "outputs": [],
   "source": []
  }
 ],
 "metadata": {
  "kernelspec": {
   "display_name": "Python 3",
   "language": "python",
   "name": "python3"
  },
  "language_info": {
   "codemirror_mode": {
    "name": "ipython",
    "version": 3
   },
   "file_extension": ".py",
   "mimetype": "text/x-python",
   "name": "python",
   "nbconvert_exporter": "python",
   "pygments_lexer": "ipython3",
   "version": "3.7.6"
  }
 },
 "nbformat": 4,
 "nbformat_minor": 4
}
