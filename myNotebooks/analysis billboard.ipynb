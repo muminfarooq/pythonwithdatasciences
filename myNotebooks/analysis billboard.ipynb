{
 "cells": [
  {
   "cell_type": "code",
   "execution_count": 32,
   "metadata": {},
   "outputs": [],
   "source": [
    "import pandas as pd\n",
    "\n"
   ]
  },
  {
   "cell_type": "code",
   "execution_count": 38,
   "metadata": {},
   "outputs": [],
   "source": [
    "df=pd.read_csv(\"E:\\\\EXCEL WORK\\\\russian_passenger_air_service.csv\")\n"
   ]
  },
  {
   "cell_type": "code",
   "execution_count": 57,
   "metadata": {},
   "outputs": [
    {
     "data": {
      "text/plain": [
       "(3961, 16)"
      ]
     },
     "execution_count": 57,
     "metadata": {},
     "output_type": "execute_result"
    }
   ],
   "source": [
    "df.shape"
   ]
  },
  {
   "cell_type": "code",
   "execution_count": 40,
   "metadata": {},
   "outputs": [],
   "source": [
    "subset=df.loc[df['Year']==2020,['Airport name','Airport coordinates']]"
   ]
  },
  {
   "cell_type": "code",
   "execution_count": 41,
   "metadata": {},
   "outputs": [
    {
     "data": {
      "text/html": [
       "<div>\n",
       "<style scoped>\n",
       "    .dataframe tbody tr th:only-of-type {\n",
       "        vertical-align: middle;\n",
       "    }\n",
       "\n",
       "    .dataframe tbody tr th {\n",
       "        vertical-align: top;\n",
       "    }\n",
       "\n",
       "    .dataframe thead th {\n",
       "        text-align: right;\n",
       "    }\n",
       "</style>\n",
       "<table border=\"1\" class=\"dataframe\">\n",
       "  <thead>\n",
       "    <tr style=\"text-align: right;\">\n",
       "      <th></th>\n",
       "      <th>Airport name</th>\n",
       "      <th>Airport coordinates</th>\n",
       "    </tr>\n",
       "  </thead>\n",
       "  <tbody>\n",
       "    <tr>\n",
       "      <th>0</th>\n",
       "      <td>Abakan</td>\n",
       "      <td>(Decimal('91.399735'), Decimal('53.751351'))</td>\n",
       "    </tr>\n",
       "    <tr>\n",
       "      <th>1</th>\n",
       "      <td>Aikhal</td>\n",
       "      <td>(Decimal('111.543324'), Decimal('65.957161'))</td>\n",
       "    </tr>\n",
       "  </tbody>\n",
       "</table>\n",
       "</div>"
      ],
      "text/plain": [
       "  Airport name                            Airport coordinates\n",
       "0       Abakan   (Decimal('91.399735'), Decimal('53.751351'))\n",
       "1       Aikhal  (Decimal('111.543324'), Decimal('65.957161'))"
      ]
     },
     "execution_count": 41,
     "metadata": {},
     "output_type": "execute_result"
    }
   ],
   "source": [
    "subset.head(2)"
   ]
  },
  {
   "cell_type": "markdown",
   "metadata": {},
   "source": [
    "# melt function we use to make wide dataset into long dataset"
   ]
  },
  {
   "cell_type": "code",
   "execution_count": 53,
   "metadata": {},
   "outputs": [],
   "source": [
    "df_long=pd.melt(df,id_vars=['Airport name','Airport coordinates','Year','Whole year'],\n",
    "                 var_name='Months',\n",
    "                 value_name='Income'  \n",
    "               )"
   ]
  },
  {
   "cell_type": "code",
   "execution_count": 62,
   "metadata": {},
   "outputs": [
    {
     "data": {
      "text/html": [
       "<div>\n",
       "<style scoped>\n",
       "    .dataframe tbody tr th:only-of-type {\n",
       "        vertical-align: middle;\n",
       "    }\n",
       "\n",
       "    .dataframe tbody tr th {\n",
       "        vertical-align: top;\n",
       "    }\n",
       "\n",
       "    .dataframe thead th {\n",
       "        text-align: right;\n",
       "    }\n",
       "</style>\n",
       "<table border=\"1\" class=\"dataframe\">\n",
       "  <thead>\n",
       "    <tr style=\"text-align: right;\">\n",
       "      <th></th>\n",
       "      <th>Airport name</th>\n",
       "      <th>Airport coordinates</th>\n",
       "      <th>Year</th>\n",
       "      <th>Whole year</th>\n",
       "      <th>Months</th>\n",
       "      <th>Income</th>\n",
       "    </tr>\n",
       "  </thead>\n",
       "  <tbody>\n",
       "    <tr>\n",
       "      <th>47528</th>\n",
       "      <td>Yakutsk (Magan)</td>\n",
       "      <td>(Decimal('-6.226888'), Decimal('8.607871'))</td>\n",
       "      <td>2007</td>\n",
       "      <td>0.00</td>\n",
       "      <td>December</td>\n",
       "      <td>0.00</td>\n",
       "    </tr>\n",
       "    <tr>\n",
       "      <th>47529</th>\n",
       "      <td>Yamburg</td>\n",
       "      <td>(Decimal('75.097783'), Decimal('67.980026'))</td>\n",
       "      <td>2007</td>\n",
       "      <td>55.59</td>\n",
       "      <td>December</td>\n",
       "      <td>8.87</td>\n",
       "    </tr>\n",
       "    <tr>\n",
       "      <th>47530</th>\n",
       "      <td>Yaroslavl (Tunoshna)</td>\n",
       "      <td>(Decimal('40.170054'), Decimal('57.56231'))</td>\n",
       "      <td>2007</td>\n",
       "      <td>15262.87</td>\n",
       "      <td>December</td>\n",
       "      <td>2055.60</td>\n",
       "    </tr>\n",
       "    <tr>\n",
       "      <th>47531</th>\n",
       "      <td>Yartsevo</td>\n",
       "      <td>(Decimal('90.203907'), Decimal('60.252931'))</td>\n",
       "      <td>2007</td>\n",
       "      <td>0.00</td>\n",
       "      <td>December</td>\n",
       "      <td>0.00</td>\n",
       "    </tr>\n",
       "  </tbody>\n",
       "</table>\n",
       "</div>"
      ],
      "text/plain": [
       "               Airport name                           Airport coordinates  \\\n",
       "47528       Yakutsk (Magan)   (Decimal('-6.226888'), Decimal('8.607871'))   \n",
       "47529               Yamburg  (Decimal('75.097783'), Decimal('67.980026'))   \n",
       "47530  Yaroslavl (Tunoshna)   (Decimal('40.170054'), Decimal('57.56231'))   \n",
       "47531              Yartsevo  (Decimal('90.203907'), Decimal('60.252931'))   \n",
       "\n",
       "       Year  Whole year    Months   Income  \n",
       "47528  2007        0.00  December     0.00  \n",
       "47529  2007       55.59  December     8.87  \n",
       "47530  2007    15262.87  December  2055.60  \n",
       "47531  2007        0.00  December     0.00  "
      ]
     },
     "execution_count": 62,
     "metadata": {},
     "output_type": "execute_result"
    }
   ],
   "source": [
    "df_long.tail(4)"
   ]
  },
  {
   "cell_type": "code",
   "execution_count": 56,
   "metadata": {},
   "outputs": [
    {
     "data": {
      "text/plain": [
       "(47532, 6)"
      ]
     },
     "execution_count": 56,
     "metadata": {},
     "output_type": "execute_result"
    }
   ],
   "source": [
    "df_long.shape\n"
   ]
  },
  {
   "cell_type": "code",
   "execution_count": 68,
   "metadata": {},
   "outputs": [],
   "source": [
    "df_lonng=df_long[['Airport name','Airport coordinates','Year','Whole year','Months']]"
   ]
  },
  {
   "cell_type": "code",
   "execution_count": 71,
   "metadata": {},
   "outputs": [
    {
     "data": {
      "text/html": [
       "<div>\n",
       "<style scoped>\n",
       "    .dataframe tbody tr th:only-of-type {\n",
       "        vertical-align: middle;\n",
       "    }\n",
       "\n",
       "    .dataframe tbody tr th {\n",
       "        vertical-align: top;\n",
       "    }\n",
       "\n",
       "    .dataframe thead th {\n",
       "        text-align: right;\n",
       "    }\n",
       "</style>\n",
       "<table border=\"1\" class=\"dataframe\">\n",
       "  <thead>\n",
       "    <tr style=\"text-align: right;\">\n",
       "      <th></th>\n",
       "      <th>Airport name</th>\n",
       "      <th>Airport coordinates</th>\n",
       "      <th>Year</th>\n",
       "      <th>Whole year</th>\n",
       "      <th>Months</th>\n",
       "    </tr>\n",
       "  </thead>\n",
       "  <tbody>\n",
       "    <tr>\n",
       "      <th>0</th>\n",
       "      <td>Abakan</td>\n",
       "      <td>(Decimal('91.399735'), Decimal('53.751351'))</td>\n",
       "      <td>2020</td>\n",
       "      <td>0.00</td>\n",
       "      <td>January</td>\n",
       "    </tr>\n",
       "    <tr>\n",
       "      <th>1</th>\n",
       "      <td>Aikhal</td>\n",
       "      <td>(Decimal('111.543324'), Decimal('65.957161'))</td>\n",
       "      <td>2020</td>\n",
       "      <td>0.00</td>\n",
       "      <td>January</td>\n",
       "    </tr>\n",
       "    <tr>\n",
       "      <th>2</th>\n",
       "      <td>Loss</td>\n",
       "      <td>(Decimal('125.398355'), Decimal('58.602489'))</td>\n",
       "      <td>2020</td>\n",
       "      <td>0.00</td>\n",
       "      <td>January</td>\n",
       "    </tr>\n",
       "    <tr>\n",
       "      <th>3</th>\n",
       "      <td>Amderma</td>\n",
       "      <td>(Decimal('61.577429'), Decimal('69.759076'))</td>\n",
       "      <td>2020</td>\n",
       "      <td>0.00</td>\n",
       "      <td>January</td>\n",
       "    </tr>\n",
       "    <tr>\n",
       "      <th>4</th>\n",
       "      <td>Anadyr (Carbon)</td>\n",
       "      <td>(Decimal('177.738273'), Decimal('64.713433'))</td>\n",
       "      <td>2020</td>\n",
       "      <td>0.00</td>\n",
       "      <td>January</td>\n",
       "    </tr>\n",
       "    <tr>\n",
       "      <th>...</th>\n",
       "      <td>...</td>\n",
       "      <td>...</td>\n",
       "      <td>...</td>\n",
       "      <td>...</td>\n",
       "      <td>...</td>\n",
       "    </tr>\n",
       "    <tr>\n",
       "      <th>47527</th>\n",
       "      <td>Yakutsk</td>\n",
       "      <td>(Decimal('129.750225'), Decimal('62.086594'))</td>\n",
       "      <td>2007</td>\n",
       "      <td>13577.44</td>\n",
       "      <td>December</td>\n",
       "    </tr>\n",
       "    <tr>\n",
       "      <th>47528</th>\n",
       "      <td>Yakutsk (Magan)</td>\n",
       "      <td>(Decimal('-6.226888'), Decimal('8.607871'))</td>\n",
       "      <td>2007</td>\n",
       "      <td>0.00</td>\n",
       "      <td>December</td>\n",
       "    </tr>\n",
       "    <tr>\n",
       "      <th>47529</th>\n",
       "      <td>Yamburg</td>\n",
       "      <td>(Decimal('75.097783'), Decimal('67.980026'))</td>\n",
       "      <td>2007</td>\n",
       "      <td>55.59</td>\n",
       "      <td>December</td>\n",
       "    </tr>\n",
       "    <tr>\n",
       "      <th>47530</th>\n",
       "      <td>Yaroslavl (Tunoshna)</td>\n",
       "      <td>(Decimal('40.170054'), Decimal('57.56231'))</td>\n",
       "      <td>2007</td>\n",
       "      <td>15262.87</td>\n",
       "      <td>December</td>\n",
       "    </tr>\n",
       "    <tr>\n",
       "      <th>47531</th>\n",
       "      <td>Yartsevo</td>\n",
       "      <td>(Decimal('90.203907'), Decimal('60.252931'))</td>\n",
       "      <td>2007</td>\n",
       "      <td>0.00</td>\n",
       "      <td>December</td>\n",
       "    </tr>\n",
       "  </tbody>\n",
       "</table>\n",
       "<p>47532 rows × 5 columns</p>\n",
       "</div>"
      ],
      "text/plain": [
       "               Airport name                            Airport coordinates  \\\n",
       "0                    Abakan   (Decimal('91.399735'), Decimal('53.751351'))   \n",
       "1                    Aikhal  (Decimal('111.543324'), Decimal('65.957161'))   \n",
       "2                      Loss  (Decimal('125.398355'), Decimal('58.602489'))   \n",
       "3                   Amderma   (Decimal('61.577429'), Decimal('69.759076'))   \n",
       "4           Anadyr (Carbon)  (Decimal('177.738273'), Decimal('64.713433'))   \n",
       "...                     ...                                            ...   \n",
       "47527               Yakutsk  (Decimal('129.750225'), Decimal('62.086594'))   \n",
       "47528       Yakutsk (Magan)    (Decimal('-6.226888'), Decimal('8.607871'))   \n",
       "47529               Yamburg   (Decimal('75.097783'), Decimal('67.980026'))   \n",
       "47530  Yaroslavl (Tunoshna)    (Decimal('40.170054'), Decimal('57.56231'))   \n",
       "47531              Yartsevo   (Decimal('90.203907'), Decimal('60.252931'))   \n",
       "\n",
       "       Year  Whole year    Months  \n",
       "0      2020        0.00   January  \n",
       "1      2020        0.00   January  \n",
       "2      2020        0.00   January  \n",
       "3      2020        0.00   January  \n",
       "4      2020        0.00   January  \n",
       "...     ...         ...       ...  \n",
       "47527  2007    13577.44  December  \n",
       "47528  2007        0.00  December  \n",
       "47529  2007       55.59  December  \n",
       "47530  2007    15262.87  December  \n",
       "47531  2007        0.00  December  \n",
       "\n",
       "[47532 rows x 5 columns]"
      ]
     },
     "execution_count": 71,
     "metadata": {},
     "output_type": "execute_result"
    }
   ],
   "source": [
    "df_lonng.drop_duplicates()"
   ]
  },
  {
   "cell_type": "code",
   "execution_count": null,
   "metadata": {},
   "outputs": [],
   "source": []
  }
 ],
 "metadata": {
  "kernelspec": {
   "display_name": "Python 3",
   "language": "python",
   "name": "python3"
  },
  "language_info": {
   "codemirror_mode": {
    "name": "ipython",
    "version": 3
   },
   "file_extension": ".py",
   "mimetype": "text/x-python",
   "name": "python",
   "nbconvert_exporter": "python",
   "pygments_lexer": "ipython3",
   "version": "3.7.6"
  }
 },
 "nbformat": 4,
 "nbformat_minor": 4
}
